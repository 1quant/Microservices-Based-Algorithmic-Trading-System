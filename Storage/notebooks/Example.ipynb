{
 "cells": [
  {
   "cell_type": "markdown",
   "metadata": {},
   "source": [
    "# Running the strategy"
   ]
  },
  {
   "cell_type": "code",
   "execution_count": 1,
   "metadata": {},
   "outputs": [
    {
     "name": "stdout",
     "output_type": "stream",
     "text": [
      "Strategy run finished with Run ID: 4\n",
      "ML Log Saved in Minio Bucket: model-support-files as 4_ml_log.csv\n",
      "Profit ... or Loss: 32.62\n"
     ]
    }
   ],
   "source": [
    "! python /home/jovyan/work/q_pack/q_run/run_BT.py \\\n",
    "--strat_name=simple_strategy_2 \\\n",
    "--mode=backtest \\\n",
    "--tickers=EUR_USD,GBP_USD \\\n",
    "--ml_log=True"
   ]
  },
  {
   "cell_type": "code",
   "execution_count": 1,
   "metadata": {},
   "outputs": [
    {
     "name": "stdout",
     "output_type": "stream",
     "text": [
      "Strategy run finished with Run ID: 20\n",
      "ML Log Saved in Minio Bucket: model-support-files as 20_ml_log.csv\n",
      "Profit ... or Loss: 79.46\n"
     ]
    }
   ],
   "source": [
    "! python /home/jovyan/work/q_pack/q_run/run_BT.py \\\n",
    "--strat_name=simple_strategy_2 \\\n",
    "--mode=backtest \\\n",
    "--tickers=EUR_USD,GBP_USD,AUD_USD,EUR_JPY,NZD_USD \\\n",
    "--ml_log=True"
   ]
  },
  {
   "cell_type": "code",
   "execution_count": null,
   "metadata": {},
   "outputs": [],
   "source": [
    "! python /home/jovyan/work/q_pack/q_run/run_BT.py \\\n",
    "--strat_name=simple_strategy_1 \\\n",
    "--mode=backtest \\\n",
    "--tickers=EUR_USD,GBP_USD,AUD_USD,EUR_JPY,NZD_USD \\\n",
    "--ml_log=True"
   ]
  },
  {
   "cell_type": "code",
   "execution_count": 1,
   "metadata": {},
   "outputs": [],
   "source": [
    "import os\n",
    "import warnings\n",
    "import sys\n",
    "import pandas as pd\n",
    "import numpy as np\n",
    "from sklearn.metrics import mean_squared_error, mean_absolute_error, r2_score\n",
    "from sklearn.model_selection import train_test_split\n",
    "from sklearn.ensemble import RandomForestRegressor, GradientBoostingRegressor\n",
    "import mlflow\n",
    "import mlflow.sklearn\n",
    "import mlflow.pyfunc\n",
    "import io\n",
    "import boto3"
   ]
  },
  {
   "cell_type": "markdown",
   "metadata": {},
   "source": [
    "# Preprocessing the file"
   ]
  },
  {
   "cell_type": "code",
   "execution_count": 2,
   "metadata": {},
   "outputs": [
    {
     "data": {
      "text/html": [
       "<div>\n",
       "<style scoped>\n",
       "    .dataframe tbody tr th:only-of-type {\n",
       "        vertical-align: middle;\n",
       "    }\n",
       "\n",
       "    .dataframe tbody tr th {\n",
       "        vertical-align: top;\n",
       "    }\n",
       "\n",
       "    .dataframe thead th {\n",
       "        text-align: right;\n",
       "    }\n",
       "</style>\n",
       "<table border=\"1\" class=\"dataframe\">\n",
       "  <thead>\n",
       "    <tr style=\"text-align: right;\">\n",
       "      <th></th>\n",
       "      <th>security</th>\n",
       "      <th>datetime</th>\n",
       "      <th>close</th>\n",
       "      <th>RSI</th>\n",
       "      <th>STOCHASTIC</th>\n",
       "      <th>ATR</th>\n",
       "    </tr>\n",
       "  </thead>\n",
       "  <tbody>\n",
       "    <tr>\n",
       "      <th>0</th>\n",
       "      <td>EUR_USD</td>\n",
       "      <td>2010-12-30 22:00:00</td>\n",
       "      <td>1.32855</td>\n",
       "      <td>NaN</td>\n",
       "      <td>NaN</td>\n",
       "      <td>NaN</td>\n",
       "    </tr>\n",
       "    <tr>\n",
       "      <th>1</th>\n",
       "      <td>EUR_USD</td>\n",
       "      <td>2010-12-31 22:00:00</td>\n",
       "      <td>1.33815</td>\n",
       "      <td>NaN</td>\n",
       "      <td>NaN</td>\n",
       "      <td>NaN</td>\n",
       "    </tr>\n",
       "    <tr>\n",
       "      <th>2</th>\n",
       "      <td>EUR_USD</td>\n",
       "      <td>2011-01-01 22:00:00</td>\n",
       "      <td>1.33280</td>\n",
       "      <td>NaN</td>\n",
       "      <td>NaN</td>\n",
       "      <td>NaN</td>\n",
       "    </tr>\n",
       "    <tr>\n",
       "      <th>3</th>\n",
       "      <td>EUR_USD</td>\n",
       "      <td>2011-01-02 22:00:00</td>\n",
       "      <td>1.32512</td>\n",
       "      <td>NaN</td>\n",
       "      <td>NaN</td>\n",
       "      <td>NaN</td>\n",
       "    </tr>\n",
       "    <tr>\n",
       "      <th>4</th>\n",
       "      <td>EUR_USD</td>\n",
       "      <td>2011-01-03 22:00:00</td>\n",
       "      <td>1.32919</td>\n",
       "      <td>NaN</td>\n",
       "      <td>NaN</td>\n",
       "      <td>NaN</td>\n",
       "    </tr>\n",
       "    <tr>\n",
       "      <th>5</th>\n",
       "      <td>EUR_USD</td>\n",
       "      <td>2011-01-04 22:00:00</td>\n",
       "      <td>1.31258</td>\n",
       "      <td>NaN</td>\n",
       "      <td>NaN</td>\n",
       "      <td>0.007796</td>\n",
       "    </tr>\n",
       "    <tr>\n",
       "      <th>6</th>\n",
       "      <td>EUR_USD</td>\n",
       "      <td>2011-01-05 22:00:00</td>\n",
       "      <td>1.29978</td>\n",
       "      <td>NaN</td>\n",
       "      <td>NaN</td>\n",
       "      <td>0.007135</td>\n",
       "    </tr>\n",
       "    <tr>\n",
       "      <th>7</th>\n",
       "      <td>EUR_USD</td>\n",
       "      <td>2011-01-06 22:00:00</td>\n",
       "      <td>1.29057</td>\n",
       "      <td>NaN</td>\n",
       "      <td>NaN</td>\n",
       "      <td>0.006176</td>\n",
       "    </tr>\n",
       "    <tr>\n",
       "      <th>8</th>\n",
       "      <td>EUR_USD</td>\n",
       "      <td>2011-01-08 22:00:00</td>\n",
       "      <td>1.28607</td>\n",
       "      <td>NaN</td>\n",
       "      <td>NaN</td>\n",
       "      <td>0.005193</td>\n",
       "    </tr>\n",
       "    <tr>\n",
       "      <th>9</th>\n",
       "      <td>EUR_USD</td>\n",
       "      <td>2011-01-09 22:00:00</td>\n",
       "      <td>1.28742</td>\n",
       "      <td>NaN</td>\n",
       "      <td>NaN</td>\n",
       "      <td>0.006228</td>\n",
       "    </tr>\n",
       "  </tbody>\n",
       "</table>\n",
       "</div>"
      ],
      "text/plain": [
       "  security             datetime    close  RSI  STOCHASTIC       ATR\n",
       "0  EUR_USD  2010-12-30 22:00:00  1.32855  NaN         NaN       NaN\n",
       "1  EUR_USD  2010-12-31 22:00:00  1.33815  NaN         NaN       NaN\n",
       "2  EUR_USD  2011-01-01 22:00:00  1.33280  NaN         NaN       NaN\n",
       "3  EUR_USD  2011-01-02 22:00:00  1.32512  NaN         NaN       NaN\n",
       "4  EUR_USD  2011-01-03 22:00:00  1.32919  NaN         NaN       NaN\n",
       "5  EUR_USD  2011-01-04 22:00:00  1.31258  NaN         NaN  0.007796\n",
       "6  EUR_USD  2011-01-05 22:00:00  1.29978  NaN         NaN  0.007135\n",
       "7  EUR_USD  2011-01-06 22:00:00  1.29057  NaN         NaN  0.006176\n",
       "8  EUR_USD  2011-01-08 22:00:00  1.28607  NaN         NaN  0.005193\n",
       "9  EUR_USD  2011-01-09 22:00:00  1.28742  NaN         NaN  0.006228"
      ]
     },
     "execution_count": 2,
     "metadata": {},
     "output_type": "execute_result"
    }
   ],
   "source": [
    "s3 = boto3.client('s3',endpoint_url=\"http://minio-image:9000\",aws_access_key_id=\"minio-image\",aws_secret_access_key=\"minio-image-pass\")\n",
    "data = pd.read_csv(s3.get_object(Bucket=\"model-support-files\", Key='20_ml_log.csv')['Body'],sep=',')\n",
    "data.head(10)"
   ]
  },
  {
   "cell_type": "code",
   "execution_count": 3,
   "metadata": {},
   "outputs": [
    {
     "data": {
      "text/plain": [
       "'processed_20_ml_log.csv'"
      ]
     },
     "execution_count": 3,
     "metadata": {},
     "output_type": "execute_result"
    }
   ],
   "source": [
    "from ml_pack.preprocessing.ml_preprocessing import ml_preprocessing\n",
    "preprocessed_file=ml_preprocessing(input_file=\"20_ml_log.csv\",fwd_returns=5)\n",
    "preprocessed_file"
   ]
  },
  {
   "cell_type": "code",
   "execution_count": 4,
   "metadata": {},
   "outputs": [],
   "source": [
    "s3 = boto3.client('s3',endpoint_url=\"http://minio-image:9000\",aws_access_key_id=\"minio-image\",aws_secret_access_key=\"minio-image-pass\")\n",
    "data = pd.read_csv(s3.get_object(Bucket=\"model-support-files\", Key=preprocessed_file)['Body'],sep=',')"
   ]
  },
  {
   "cell_type": "code",
   "execution_count": 5,
   "metadata": {},
   "outputs": [
    {
     "data": {
      "text/html": [
       "<div>\n",
       "<style scoped>\n",
       "    .dataframe tbody tr th:only-of-type {\n",
       "        vertical-align: middle;\n",
       "    }\n",
       "\n",
       "    .dataframe tbody tr th {\n",
       "        vertical-align: top;\n",
       "    }\n",
       "\n",
       "    .dataframe thead th {\n",
       "        text-align: right;\n",
       "    }\n",
       "</style>\n",
       "<table border=\"1\" class=\"dataframe\">\n",
       "  <thead>\n",
       "    <tr style=\"text-align: right;\">\n",
       "      <th></th>\n",
       "      <th>RSI</th>\n",
       "      <th>STOCHASTIC</th>\n",
       "      <th>fwd_returns</th>\n",
       "    </tr>\n",
       "  </thead>\n",
       "  <tbody>\n",
       "    <tr>\n",
       "      <th>0</th>\n",
       "      <td>56.991619</td>\n",
       "      <td>78.882076</td>\n",
       "      <td>-0.005146</td>\n",
       "    </tr>\n",
       "    <tr>\n",
       "      <th>1</th>\n",
       "      <td>49.073894</td>\n",
       "      <td>60.403681</td>\n",
       "      <td>0.005311</td>\n",
       "    </tr>\n",
       "    <tr>\n",
       "      <th>2</th>\n",
       "      <td>60.432136</td>\n",
       "      <td>61.626107</td>\n",
       "      <td>-0.006642</td>\n",
       "    </tr>\n",
       "    <tr>\n",
       "      <th>3</th>\n",
       "      <td>59.448606</td>\n",
       "      <td>77.279931</td>\n",
       "      <td>0.003864</td>\n",
       "    </tr>\n",
       "    <tr>\n",
       "      <th>4</th>\n",
       "      <td>50.438378</td>\n",
       "      <td>54.132662</td>\n",
       "      <td>0.005214</td>\n",
       "    </tr>\n",
       "    <tr>\n",
       "      <th>5</th>\n",
       "      <td>43.262870</td>\n",
       "      <td>13.615443</td>\n",
       "      <td>0.008839</td>\n",
       "    </tr>\n",
       "    <tr>\n",
       "      <th>6</th>\n",
       "      <td>61.668242</td>\n",
       "      <td>58.322696</td>\n",
       "      <td>-0.005078</td>\n",
       "    </tr>\n",
       "    <tr>\n",
       "      <th>7</th>\n",
       "      <td>50.683722</td>\n",
       "      <td>54.940994</td>\n",
       "      <td>0.001466</td>\n",
       "    </tr>\n",
       "    <tr>\n",
       "      <th>8</th>\n",
       "      <td>46.870835</td>\n",
       "      <td>32.905598</td>\n",
       "      <td>0.017321</td>\n",
       "    </tr>\n",
       "    <tr>\n",
       "      <th>9</th>\n",
       "      <td>62.520782</td>\n",
       "      <td>56.724459</td>\n",
       "      <td>0.006251</td>\n",
       "    </tr>\n",
       "  </tbody>\n",
       "</table>\n",
       "</div>"
      ],
      "text/plain": [
       "         RSI  STOCHASTIC  fwd_returns\n",
       "0  56.991619   78.882076    -0.005146\n",
       "1  49.073894   60.403681     0.005311\n",
       "2  60.432136   61.626107    -0.006642\n",
       "3  59.448606   77.279931     0.003864\n",
       "4  50.438378   54.132662     0.005214\n",
       "5  43.262870   13.615443     0.008839\n",
       "6  61.668242   58.322696    -0.005078\n",
       "7  50.683722   54.940994     0.001466\n",
       "8  46.870835   32.905598     0.017321\n",
       "9  62.520782   56.724459     0.006251"
      ]
     },
     "execution_count": 5,
     "metadata": {},
     "output_type": "execute_result"
    }
   ],
   "source": [
    "data.head(10)"
   ]
  },
  {
   "cell_type": "markdown",
   "metadata": {},
   "source": [
    "# Train a ML-model using MLflow"
   ]
  },
  {
   "cell_type": "markdown",
   "metadata": {},
   "source": [
    "### Point to the MLflow tracking endpoint"
   ]
  },
  {
   "cell_type": "code",
   "execution_count": 6,
   "metadata": {},
   "outputs": [],
   "source": [
    "mlflow.tracking.set_tracking_uri('http://mlflow-image:5500')"
   ]
  },
  {
   "cell_type": "markdown",
   "metadata": {},
   "source": [
    "### Create a MLflow experiment"
   ]
  },
  {
   "cell_type": "code",
   "execution_count": 7,
   "metadata": {},
   "outputs": [],
   "source": [
    "# mlflow.delete_experiment(1)"
   ]
  },
  {
   "cell_type": "code",
   "execution_count": 8,
   "metadata": {},
   "outputs": [],
   "source": [
    "# mlflow.create_experiment(name='simple_trading_models', artifact_location='s3://mlflow-models')"
   ]
  },
  {
   "cell_type": "code",
   "execution_count": 9,
   "metadata": {},
   "outputs": [],
   "source": [
    "mlflow.set_experiment('simple_trading_models')"
   ]
  },
  {
   "cell_type": "markdown",
   "metadata": {},
   "source": [
    "### Fetching the preprocessed data from Minio"
   ]
  },
  {
   "cell_type": "code",
   "execution_count": 10,
   "metadata": {},
   "outputs": [
    {
     "name": "stdout",
     "output_type": "stream",
     "text": [
      "RandomForest Model (n_estimators=300.000000, max_depth=10.000000):\n",
      "  RMSE: 0.009809113217502488\n",
      "  MAE: 0.007529644150039793\n",
      "  R2: 0.43336618232607704\n"
     ]
    }
   ],
   "source": [
    "def eval_metrics(actual, pred):\n",
    "    rmse = np.sqrt(mean_squared_error(actual, pred))\n",
    "    mae = mean_absolute_error(actual, pred)\n",
    "    r2 = r2_score(actual, pred)\n",
    "    return rmse, mae, r2\n",
    "\n",
    "warnings.filterwarnings(\"ignore\")\n",
    "np.random.seed(40)\n",
    "# Split the data into training and test sets. (0.75, 0.25) split.\n",
    "train, test = train_test_split(data)\n",
    "\n",
    "# The predicted column is \"fwd_returns\"\n",
    "train_x = train.drop([\"fwd_returns\"], axis=1)\n",
    "test_x = test.drop([\"fwd_returns\"], axis=1)\n",
    "train_y = train[[\"fwd_returns\"]]\n",
    "test_y = test[[\"fwd_returns\"]]\n",
    "\n",
    "n_estimators=300\n",
    "max_depth=10\n",
    "\n",
    "lr = RandomForestRegressor(n_estimators=n_estimators,max_depth=max_depth)\n",
    "lr.fit(train_x, train_y)\n",
    "predicted_qualities = lr.predict(test_x)\n",
    "(rmse, mae, r2) = eval_metrics(test_y, predicted_qualities)\n",
    "\n",
    "print(\"RandomForest Model (n_estimators=%f, max_depth=%f):\" % (n_estimators, max_depth))\n",
    "print(\"  RMSE: %s\" % rmse)\n",
    "print(\"  MAE: %s\" % mae)\n",
    "print(\"  R2: %s\" % r2)\n",
    "\n",
    "mlflow.log_param(\"n_estimators\", n_estimators)\n",
    "mlflow.log_param(\"max_depth\", max_depth)\n",
    "mlflow.log_metric(\"rmse\", rmse)\n",
    "mlflow.log_metric(\"r2\", r2)\n",
    "mlflow.log_metric(\"mae\", mae)\n",
    "mlflow.sklearn.log_model(lr, \"model\")"
   ]
  },
  {
   "cell_type": "markdown",
   "metadata": {},
   "source": [
    "## Model Serving"
   ]
  },
  {
   "cell_type": "code",
   "execution_count": 11,
   "metadata": {},
   "outputs": [],
   "source": [
    "import mlflow.pyfunc"
   ]
  },
  {
   "cell_type": "code",
   "execution_count": 14,
   "metadata": {},
   "outputs": [],
   "source": [
    "model_predict=mlflow.pyfunc.load_model(model_uri=\"s3://mlflow-models/0255c7673c164de6815d89a4228b846c/artifacts/model\")"
   ]
  },
  {
   "cell_type": "code",
   "execution_count": 15,
   "metadata": {},
   "outputs": [],
   "source": [
    "# model_predict=mlflow.pyfunc.load_model(model_uri=\"s3://mlflow-models/0255c7673c164de6815d89a4228b846c/model\") "
   ]
  },
  {
   "cell_type": "code",
   "execution_count": 16,
   "metadata": {},
   "outputs": [
    {
     "data": {
      "text/plain": [
       "array([0.00872057])"
      ]
     },
     "execution_count": 16,
     "metadata": {},
     "output_type": "execute_result"
    }
   ],
   "source": [
    "model_predict.predict([[80,20]])"
   ]
  },
  {
   "cell_type": "markdown",
   "metadata": {},
   "source": [
    "## Running the strategy with the model"
   ]
  },
  {
   "cell_type": "code",
   "execution_count": 17,
   "metadata": {},
   "outputs": [
    {
     "name": "stdout",
     "output_type": "stream",
     "text": [
      "s3://mlflow-models/0255c7673c164de6815d89a4228b846c/artifacts/model\n",
      "Strategy run finished with Run ID: 21\n",
      "Profit ... or Loss: -1262.76\n"
     ]
    }
   ],
   "source": [
    "!python /home/jovyan/work/q_pack/q_run/run_BT.py \\\n",
    "--strat_name=simple_strategy_2 \\\n",
    "--strat_param=ml_serving=True,model_uri=0255c7673c164de6815d89a4228b846c \\\n",
    "--ml_log=False \\\n",
    "--mode=backtest \\\n",
    "--tickers=EUR_USD,GBP_USD,NZD_USD"
   ]
  },
  {
   "cell_type": "markdown",
   "metadata": {},
   "source": [
    "## Packaging the model using MLflow (BONUS)\n",
    "For reproducibility and for sharing"
   ]
  },
  {
   "cell_type": "code",
   "execution_count": 55,
   "metadata": {},
   "outputs": [],
   "source": [
    "mlflow.projects.run(\"/home/jovyan/work/BT/mlflow_project\",parameters={'n_estimators':200,'max_depth':10})\n"
   ]
  },
  {
   "cell_type": "markdown",
   "metadata": {},
   "source": [
    "## Serving the model as a rest API using MLflow (BONUS)\n",
    "Serrve the model in the mlflow tracking container using"
   ]
  },
  {
   "cell_type": "markdown",
   "metadata": {},
   "source": [
    "docker exec ekholabs-mlflow /bin/sh -c \"mlflow models serve -m /ekholabs-mlflow/mlruns/0/a85ab97a393045afaea2b550a79686e8/artifacts/model --host=0.0.0.0 -p 2349\""
   ]
  },
  {
   "cell_type": "markdown",
   "metadata": {},
   "source": [
    "Then you can call in the program using curl"
   ]
  },
  {
   "cell_type": "code",
   "execution_count": null,
   "metadata": {},
   "outputs": [],
   "source": [
    "! curl -X POST -H \"Content-Type:application/json; format=pandas-split\" --data '{\"columns\":[\"alcohol\", \"chlorides\", \"citric acid\", \"density\", \"fixed acidity\", \"free sulfur dioxide\", \"pH\", \"residual sugar\", \"sulphates\", \"total sulfur dioxide\", \"volatile acidity\"],\"data\":[[12.8, 2, 10, 0.98, 1, 45, 2, 1.2, 44, 4, 0.66]]}' http://mlflow-image:2349/invocations"
   ]
  },
  {
   "cell_type": "code",
   "execution_count": 22,
   "metadata": {},
   "outputs": [
    {
     "name": "stdout",
     "output_type": "stream",
     "text": [
      "s3://mlflow-models/b5c9975d81c64bc3b662654007e1c20d/artifacts/model\n",
      "Profit ... or Loss: -969.07\n"
     ]
    }
   ],
   "source": [
    "! python /home/jovyan/work/q_pack/q_run/run_BT.py \\\n",
    "--strat_name=simple_strategy_2 \\\n",
    "--mode=backtest \\\n",
    "--tickers=EUR_USD,GBP_USD \\\n",
    "--strat_param=model_uri=b5c9975d81c64bc3b662654007e1c20d,ml_serving=True"
   ]
  },
  {
   "cell_type": "code",
   "execution_count": 5,
   "metadata": {},
   "outputs": [
    {
     "name": "stdout",
     "output_type": "stream",
     "text": [
      "s3://mlflow-models/0255c7673c164de6815d89a4228b846c/artifacts/model\n",
      "Traceback (most recent call last):\n",
      "  File \"/home/jovyan/work/q_pack/q_run/run_BT.py\", line 130, in <module>\n",
      "    run()\n",
      "  File \"/home/jovyan/work/q_pack/q_run/run_BT.py\", line 70, in run\n",
      "    results = cerebro.run(tradehistory=True)  \n",
      "  File \"/opt/conda/lib/python3.7/site-packages/backtrader/cerebro.py\", line 1127, in run\n",
      "    runstrat = self.runstrategies(iterstrat)\n",
      "  File \"/opt/conda/lib/python3.7/site-packages/backtrader/cerebro.py\", line 1293, in runstrategies\n",
      "    self._runonce(runstrats)\n",
      "  File \"/opt/conda/lib/python3.7/site-packages/backtrader/cerebro.py\", line 1652, in _runonce\n",
      "    strat._once()\n",
      "  File \"/opt/conda/lib/python3.7/site-packages/backtrader/lineiterator.py\", line 297, in _once\n",
      "    indicator._once()\n",
      "  File \"/opt/conda/lib/python3.7/site-packages/backtrader/lineiterator.py\", line 297, in _once\n",
      "    indicator._once()\n",
      "  File \"/opt/conda/lib/python3.7/site-packages/backtrader/lineiterator.py\", line 297, in _once\n",
      "    indicator._once()\n",
      "  File \"/opt/conda/lib/python3.7/site-packages/backtrader/linebuffer.py\", line 630, in _once\n",
      "    self.oncestart(self._minperiod - 1, self._minperiod)\n",
      "  File \"/opt/conda/lib/python3.7/site-packages/backtrader/lineroot.py\", line 165, in oncestart\n",
      "    self.once(start, end)\n",
      "  File \"/opt/conda/lib/python3.7/site-packages/backtrader/linebuffer.py\", line 672, in once\n",
      "    dst[i] = src[i + ago]\n",
      "IndexError: array index out of range\n"
     ]
    }
   ],
   "source": [
    "! python /home/jovyan/work/q_pack/q_run/run_BT.py \\\n",
    "--strat_name=simple_strategy_2\\\n",
    "--mode=backtest\\\n",
    "--tickers=EUR_USD,GBP_USD,JPY_USD \\\n",
    "--strat_param=model_uri=0255c7673c164de6815d89a4228b846c,ml_serving=True"
   ]
  },
  {
   "cell_type": "code",
   "execution_count": null,
   "metadata": {},
   "outputs": [],
   "source": [
    ",NZD_USD,"
   ]
  }
 ],
 "metadata": {
  "kernelspec": {
   "display_name": "Python 3",
   "language": "python",
   "name": "python3"
  }
 },
 "nbformat": 4,
 "nbformat_minor": 2
}
